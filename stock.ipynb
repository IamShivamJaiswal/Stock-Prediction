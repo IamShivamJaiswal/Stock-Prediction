{
  "nbformat": 4,
  "nbformat_minor": 0,
  "metadata": {
    "colab": {
      "name": "stock.ipynb",
      "version": "0.3.2",
      "provenance": [],
      "toc_visible": true,
      "include_colab_link": true
    },
    "kernelspec": {
      "name": "python3",
      "display_name": "Python 3"
    },
    "language_info": {
      "codemirror_mode": {
        "name": "ipython",
        "version": 3
      },
      "file_extension": ".py",
      "mimetype": "text/x-python",
      "name": "python",
      "nbconvert_exporter": "python",
      "pygments_lexer": "ipython3",
      "version": "3.5.5"
    },
    "accelerator": "GPU"
  },
  "cells": [
    {
      "cell_type": "markdown",
      "metadata": {
        "id": "view-in-github",
        "colab_type": "text"
      },
      "source": [
        "<a href=\"https://colab.research.google.com/github/IamShivamJaiswal/Stock-Prediction/blob/master/stock.ipynb\" target=\"_parent\"><img src=\"https://colab.research.google.com/assets/colab-badge.svg\" alt=\"Open In Colab\"/></a>"
      ]
    },
    {
      "cell_type": "code",
      "metadata": {
        "colab_type": "code",
        "id": "za518XJUZH6l",
        "outputId": "22a219cd-a55b-4dd5-80a3-3ad7608cb83a",
        "colab": {
          "base_uri": "https://localhost:8080/",
          "height": 119
        }
      },
      "source": [
        "!git clone https://github.com/IamShivamJaiswal/Stock-Prediction"
      ],
      "execution_count": 1,
      "outputs": [
        {
          "output_type": "stream",
          "text": [
            "Cloning into 'Stock-Prediction'...\n",
            "remote: Enumerating objects: 16, done.\u001b[K\n",
            "remote: Counting objects:   6% (1/16)\u001b[K\rremote: Counting objects:  12% (2/16)\u001b[K\rremote: Counting objects:  18% (3/16)\u001b[K\rremote: Counting objects:  25% (4/16)\u001b[K\rremote: Counting objects:  31% (5/16)\u001b[K\rremote: Counting objects:  37% (6/16)\u001b[K\rremote: Counting objects:  43% (7/16)\u001b[K\rremote: Counting objects:  50% (8/16)\u001b[K\rremote: Counting objects:  56% (9/16)\u001b[K\rremote: Counting objects:  62% (10/16)\u001b[K\rremote: Counting objects:  68% (11/16)\u001b[K\rremote: Counting objects:  75% (12/16)\u001b[K\rremote: Counting objects:  81% (13/16)\u001b[K\rremote: Counting objects:  87% (14/16)\u001b[K\rremote: Counting objects:  93% (15/16)\u001b[K\rremote: Counting objects: 100% (16/16)\u001b[K\rremote: Counting objects: 100% (16/16), done.\u001b[K\n",
            "remote: Compressing objects:   7% (1/14)\u001b[K\rremote: Compressing objects:  14% (2/14)\u001b[K\rremote: Compressing objects:  21% (3/14)\u001b[K\rremote: Compressing objects:  28% (4/14)\u001b[K\rremote: Compressing objects:  35% (5/14)\u001b[K\rremote: Compressing objects:  42% (6/14)\u001b[K\rremote: Compressing objects:  50% (7/14)\u001b[K\rremote: Compressing objects:  57% (8/14)\u001b[K\rremote: Compressing objects:  64% (9/14)\u001b[K\rremote: Compressing objects:  71% (10/14)\u001b[K\rremote: Compressing objects:  78% (11/14)\u001b[K\rremote: Compressing objects:  85% (12/14)\u001b[K\rremote: Compressing objects:  92% (13/14)\u001b[K\rremote: Compressing objects: 100% (14/14)\u001b[K\rremote: Compressing objects: 100% (14/14), done.\u001b[K\n",
            "Unpacking objects:   6% (1/16)   \rUnpacking objects:  12% (2/16)   \rUnpacking objects:  18% (3/16)   \rUnpacking objects:  25% (4/16)   \rUnpacking objects:  31% (5/16)   \rUnpacking objects:  37% (6/16)   \rUnpacking objects:  43% (7/16)   \rUnpacking objects:  50% (8/16)   \rUnpacking objects:  56% (9/16)   \rUnpacking objects:  62% (10/16)   \rUnpacking objects:  68% (11/16)   \rUnpacking objects:  75% (12/16)   \rremote: Total 16 (delta 4), reused 9 (delta 1), pack-reused 0\u001b[K\n",
            "Unpacking objects:  81% (13/16)   \rUnpacking objects:  87% (14/16)   \rUnpacking objects:  93% (15/16)   \rUnpacking objects: 100% (16/16)   \rUnpacking objects: 100% (16/16), done.\n"
          ],
          "name": "stdout"
        }
      ]
    },
    {
      "cell_type": "code",
      "metadata": {
        "id": "DFZkQd65Hau0",
        "colab_type": "code",
        "colab": {
          "base_uri": "https://localhost:8080/",
          "height": 34
        },
        "outputId": "e81af2a4-6105-4fa4-ee41-7e8d45dee5c8"
      },
      "source": [
        "%cd Stock-Prediction/"
      ],
      "execution_count": 2,
      "outputs": [
        {
          "output_type": "stream",
          "text": [
            "/content/Stock-Prediction\n"
          ],
          "name": "stdout"
        }
      ]
    },
    {
      "cell_type": "markdown",
      "metadata": {
        "id": "S-C_ooSfHRMe",
        "colab_type": "text"
      },
      "source": [
        "# Stocks Prediction"
      ]
    },
    {
      "cell_type": "code",
      "metadata": {
        "colab_type": "code",
        "id": "rYYA0_--ZMj6",
        "outputId": "5a42c702-a395-4ba7-fbea-2330ac8cb38f",
        "colab": {
          "base_uri": "https://localhost:8080/",
          "height": 235
        }
      },
      "source": [
        "import pandas as pd\n",
        "import datetime\n",
        "#import pandas_datareader.data as web\n",
        "from pandas import Series, DataFrame\n",
        "\n",
        "\n",
        "# start = datetime.datetime(2018, 9, 6)\n",
        "# end = datetime.datetime(2019, 9, 6)\n",
        "\n",
        "#df = web.DataReader(\"AAPL\", 'yahoo', start, end)\n",
        "df = pd.read_csv(\"data/AAPL.csv\",header=0, parse_dates=[0], index_col=0,)\n",
        "df.tail()"
      ],
      "execution_count": 3,
      "outputs": [
        {
          "output_type": "execute_result",
          "data": {
            "text/html": [
              "<div>\n",
              "<style scoped>\n",
              "    .dataframe tbody tr th:only-of-type {\n",
              "        vertical-align: middle;\n",
              "    }\n",
              "\n",
              "    .dataframe tbody tr th {\n",
              "        vertical-align: top;\n",
              "    }\n",
              "\n",
              "    .dataframe thead th {\n",
              "        text-align: right;\n",
              "    }\n",
              "</style>\n",
              "<table border=\"1\" class=\"dataframe\">\n",
              "  <thead>\n",
              "    <tr style=\"text-align: right;\">\n",
              "      <th></th>\n",
              "      <th>Open</th>\n",
              "      <th>High</th>\n",
              "      <th>Low</th>\n",
              "      <th>Close</th>\n",
              "      <th>Adj Close</th>\n",
              "      <th>Volume</th>\n",
              "    </tr>\n",
              "    <tr>\n",
              "      <th>Date</th>\n",
              "      <th></th>\n",
              "      <th></th>\n",
              "      <th></th>\n",
              "      <th></th>\n",
              "      <th></th>\n",
              "      <th></th>\n",
              "    </tr>\n",
              "  </thead>\n",
              "  <tbody>\n",
              "    <tr>\n",
              "      <th>2019-08-30</th>\n",
              "      <td>210.160004</td>\n",
              "      <td>210.449997</td>\n",
              "      <td>207.199997</td>\n",
              "      <td>208.740005</td>\n",
              "      <td>208.740005</td>\n",
              "      <td>21143400</td>\n",
              "    </tr>\n",
              "    <tr>\n",
              "      <th>2019-09-03</th>\n",
              "      <td>206.429993</td>\n",
              "      <td>206.979996</td>\n",
              "      <td>204.220001</td>\n",
              "      <td>205.699997</td>\n",
              "      <td>205.699997</td>\n",
              "      <td>20023000</td>\n",
              "    </tr>\n",
              "    <tr>\n",
              "      <th>2019-09-04</th>\n",
              "      <td>208.389999</td>\n",
              "      <td>209.479996</td>\n",
              "      <td>207.320007</td>\n",
              "      <td>209.190002</td>\n",
              "      <td>209.190002</td>\n",
              "      <td>19188100</td>\n",
              "    </tr>\n",
              "    <tr>\n",
              "      <th>2019-09-05</th>\n",
              "      <td>212.000000</td>\n",
              "      <td>213.970001</td>\n",
              "      <td>211.509995</td>\n",
              "      <td>213.279999</td>\n",
              "      <td>213.279999</td>\n",
              "      <td>23913700</td>\n",
              "    </tr>\n",
              "    <tr>\n",
              "      <th>2019-09-06</th>\n",
              "      <td>214.050003</td>\n",
              "      <td>214.410004</td>\n",
              "      <td>212.509995</td>\n",
              "      <td>213.259995</td>\n",
              "      <td>213.259995</td>\n",
              "      <td>17671839</td>\n",
              "    </tr>\n",
              "  </tbody>\n",
              "</table>\n",
              "</div>"
            ],
            "text/plain": [
              "                  Open        High  ...   Adj Close    Volume\n",
              "Date                                ...                      \n",
              "2019-08-30  210.160004  210.449997  ...  208.740005  21143400\n",
              "2019-09-03  206.429993  206.979996  ...  205.699997  20023000\n",
              "2019-09-04  208.389999  209.479996  ...  209.190002  19188100\n",
              "2019-09-05  212.000000  213.970001  ...  213.279999  23913700\n",
              "2019-09-06  214.050003  214.410004  ...  213.259995  17671839\n",
              "\n",
              "[5 rows x 6 columns]"
            ]
          },
          "metadata": {
            "tags": []
          },
          "execution_count": 3
        }
      ]
    },
    {
      "cell_type": "markdown",
      "metadata": {
        "id": "3tH3N-3cH2Nl",
        "colab_type": "text"
      },
      "source": [
        "## Exploring the data "
      ]
    },
    {
      "cell_type": "markdown",
      "metadata": {
        "id": "fXs5GOR2HycF",
        "colab_type": "text"
      },
      "source": [
        "First we will need to explore the data.\n",
        "This means understanding the stocks data trend thoroughly by finding key measures\n",
        "* rolling mean (moving average) -- to determine trend\n",
        "* return deviation -- to determine return deviation"
      ]
    },
    {
      "cell_type": "code",
      "metadata": {
        "colab_type": "code",
        "id": "Dv-hgLcjZtQJ",
        "colab": {
          "base_uri": "https://localhost:8080/",
          "height": 221
        },
        "outputId": "6fa923aa-0bbd-4eef-d732-1e6638c2b86f"
      },
      "source": [
        "close_px = df['Adj Close']\n",
        "mavg = close_px.rolling(window=10).mean()\n",
        "mavg.tail(10)"
      ],
      "execution_count": 4,
      "outputs": [
        {
          "output_type": "execute_result",
          "data": {
            "text/plain": [
              "Date\n",
              "2019-08-23    206.889001\n",
              "2019-08-26    207.490002\n",
              "2019-08-27    207.009003\n",
              "2019-08-28    207.287002\n",
              "2019-08-29    208.014001\n",
              "2019-08-30    208.238002\n",
              "2019-09-03    207.773001\n",
              "2019-09-04    207.656001\n",
              "2019-09-05    207.720001\n",
              "2019-09-06    207.800000\n",
              "Name: Adj Close, dtype: float64"
            ]
          },
          "metadata": {
            "tags": []
          },
          "execution_count": 4
        }
      ]
    },
    {
      "cell_type": "code",
      "metadata": {
        "colab_type": "code",
        "id": "d0OK8shlZzTY",
        "outputId": "84704d2a-6417-4e6c-f9f7-cf59d069ee02",
        "colab": {
          "base_uri": "https://localhost:8080/",
          "height": 448
        }
      },
      "source": [
        "%matplotlib inline\n",
        "import matplotlib.pyplot as plt\n",
        "from matplotlib import style\n",
        "\n",
        "# Adjusting the size of matplotlib\n",
        "import matplotlib as mpl\n",
        "mpl.rc('figure', figsize=(8, 7))\n",
        "mpl.__version__\n",
        "\n",
        "# Adjusting the style of matplotlib\n",
        "style.use('ggplot')\n",
        "\n",
        "close_px.plot(label='AAPL')\n",
        "mavg.plot(label='mavg')\n",
        "plt.legend()"
      ],
      "execution_count": 5,
      "outputs": [
        {
          "output_type": "execute_result",
          "data": {
            "text/plain": [
              "<matplotlib.legend.Legend at 0x7f3ead675320>"
            ]
          },
          "metadata": {
            "tags": []
          },
          "execution_count": 5
        },
        {
          "output_type": "display_data",
          "data": {
            "image/png": "[encoded data removed]",
            "text/plain": [
              "<Figure size 576x504 with 1 Axes>"
            ]
          },
          "metadata": {
            "tags": []
          }
        }
      ]
    },
    {
      "cell_type": "markdown",
      "metadata": {
        "id": "zhbppQMJISIR",
        "colab_type": "text"
      },
      "source": [
        "Returns defined as: \n",
        "$$ $$\n",
        "$$r_t = \\frac{p_t - p_{t-1}}{p_{t-1}} = \\frac{p_t}{p_{t-1}} - 1$$"
      ]
    },
    {
      "cell_type": "code",
      "metadata": {
        "colab_type": "code",
        "id": "qKM-w5gfZ4O4",
        "outputId": "e3a1cacd-8b5a-4e60-9552-80d07d52c9a0",
        "colab": {
          "base_uri": "https://localhost:8080/",
          "height": 136
        }
      },
      "source": [
        "rets = close_px / close_px.shift(1) - 1\n",
        "rets.head()\n"
      ],
      "execution_count": 6,
      "outputs": [
        {
          "output_type": "execute_result",
          "data": {
            "text/plain": [
              "Date\n",
              "2018-09-06         NaN\n",
              "2018-09-07   -0.008068\n",
              "2018-09-10   -0.013421\n",
              "2018-09-11    0.025283\n",
              "2018-09-12   -0.012419\n",
              "Name: Adj Close, dtype: float64"
            ]
          },
          "metadata": {
            "tags": []
          },
          "execution_count": 6
        }
      ]
    },
    {
      "cell_type": "code",
      "metadata": {
        "id": "wxKscmgxIbVG",
        "colab_type": "code",
        "colab": {
          "base_uri": "https://localhost:8080/",
          "height": 448
        },
        "outputId": "8595dd80-b967-421e-a105-86a055b8a679"
      },
      "source": [
        "rets.plot(label='return')"
      ],
      "execution_count": 7,
      "outputs": [
        {
          "output_type": "execute_result",
          "data": {
            "text/plain": [
              "<matplotlib.axes._subplots.AxesSubplot at 0x7f3eaaae8828>"
            ]
          },
          "metadata": {
            "tags": []
          },
          "execution_count": 7
        },
        {
          "output_type": "display_data",
          "data": {
            "image/png": "[encoded data removed]",
            "text/plain": [
              "<Figure size 576x504 with 1 Axes>"
            ]
          },
          "metadata": {
            "tags": []
          }
        }
      ]
    },
    {
      "cell_type": "markdown",
      "metadata": {
        "id": "xsd5MeXgJgv7",
        "colab_type": "text"
      },
      "source": [
        "# Predicting the stocks price"
      ]
    },
    {
      "cell_type": "markdown",
      "metadata": {
        "id": "VJYmrsvGJjms",
        "colab_type": "text"
      },
      "source": [
        "To predict the return of the stocks in the next period - Prediction analysis\n",
        "* Simple Linear Analysis\n",
        "* Quadratic Linear Analysis (QDA)\n",
        "* K Nearest Neighbor (KNN)\n",
        "\n",
        "But first, let us extract the necessary columns first from df:\n",
        "* Adj Close\n",
        "* Adj Volume\n",
        "* HL Percentage\n",
        "* PCT Change"
      ]
    },
    {
      "cell_type": "code",
      "metadata": {
        "id": "_HRgvBy0JpYM",
        "colab_type": "code",
        "colab": {
          "base_uri": "https://localhost:8080/",
          "height": 235
        },
        "outputId": "7c957708-9888-4399-d9a8-9442f1d5bb14"
      },
      "source": [
        "df.head()"
      ],
      "execution_count": 8,
      "outputs": [
        {
          "output_type": "execute_result",
          "data": {
            "text/html": [
              "<div>\n",
              "<style scoped>\n",
              "    .dataframe tbody tr th:only-of-type {\n",
              "        vertical-align: middle;\n",
              "    }\n",
              "\n",
              "    .dataframe tbody tr th {\n",
              "        vertical-align: top;\n",
              "    }\n",
              "\n",
              "    .dataframe thead th {\n",
              "        text-align: right;\n",
              "    }\n",
              "</style>\n",
              "<table border=\"1\" class=\"dataframe\">\n",
              "  <thead>\n",
              "    <tr style=\"text-align: right;\">\n",
              "      <th></th>\n",
              "      <th>Open</th>\n",
              "      <th>High</th>\n",
              "      <th>Low</th>\n",
              "      <th>Close</th>\n",
              "      <th>Adj Close</th>\n",
              "      <th>Volume</th>\n",
              "    </tr>\n",
              "    <tr>\n",
              "      <th>Date</th>\n",
              "      <th></th>\n",
              "      <th></th>\n",
              "      <th></th>\n",
              "      <th></th>\n",
              "      <th></th>\n",
              "      <th></th>\n",
              "    </tr>\n",
              "  </thead>\n",
              "  <tbody>\n",
              "    <tr>\n",
              "      <th>2018-09-06</th>\n",
              "      <td>226.229996</td>\n",
              "      <td>227.350006</td>\n",
              "      <td>221.300003</td>\n",
              "      <td>223.100006</td>\n",
              "      <td>219.690903</td>\n",
              "      <td>34290000</td>\n",
              "    </tr>\n",
              "    <tr>\n",
              "      <th>2018-09-07</th>\n",
              "      <td>221.850006</td>\n",
              "      <td>225.369995</td>\n",
              "      <td>220.710007</td>\n",
              "      <td>221.300003</td>\n",
              "      <td>217.918411</td>\n",
              "      <td>37619800</td>\n",
              "    </tr>\n",
              "    <tr>\n",
              "      <th>2018-09-10</th>\n",
              "      <td>220.949997</td>\n",
              "      <td>221.850006</td>\n",
              "      <td>216.470001</td>\n",
              "      <td>218.330002</td>\n",
              "      <td>214.993759</td>\n",
              "      <td>39516500</td>\n",
              "    </tr>\n",
              "    <tr>\n",
              "      <th>2018-09-11</th>\n",
              "      <td>218.009995</td>\n",
              "      <td>224.300003</td>\n",
              "      <td>216.559998</td>\n",
              "      <td>223.850006</td>\n",
              "      <td>220.429443</td>\n",
              "      <td>35749000</td>\n",
              "    </tr>\n",
              "    <tr>\n",
              "      <th>2018-09-12</th>\n",
              "      <td>224.940002</td>\n",
              "      <td>225.000000</td>\n",
              "      <td>219.839996</td>\n",
              "      <td>221.070007</td>\n",
              "      <td>217.691925</td>\n",
              "      <td>49278700</td>\n",
              "    </tr>\n",
              "  </tbody>\n",
              "</table>\n",
              "</div>"
            ],
            "text/plain": [
              "                  Open        High  ...   Adj Close    Volume\n",
              "Date                                ...                      \n",
              "2018-09-06  226.229996  227.350006  ...  219.690903  34290000\n",
              "2018-09-07  221.850006  225.369995  ...  217.918411  37619800\n",
              "2018-09-10  220.949997  221.850006  ...  214.993759  39516500\n",
              "2018-09-11  218.009995  224.300003  ...  220.429443  35749000\n",
              "2018-09-12  224.940002  225.000000  ...  217.691925  49278700\n",
              "\n",
              "[5 rows x 6 columns]"
            ]
          },
          "metadata": {
            "tags": []
          },
          "execution_count": 8
        }
      ]
    },
    {
      "cell_type": "code",
      "metadata": {
        "colab_type": "code",
        "id": "Qeqtj054adaq",
        "outputId": "3023a0bf-734d-47b7-c1c8-cbe6db51a274",
        "colab": {
          "base_uri": "https://localhost:8080/",
          "height": 1000
        }
      },
      "source": [
        "dfreg = df.loc[:,[\"Adj Close\",\"Volume\"]]\n",
        "dfreg[\"HL_PCT\"] = (df[\"High\"] - df[\"Low\"]) / df[\"Close\"] * 100.0\n",
        "dfreg[\"PCT_change\"] = (df[\"Close\"] - df[\"Open\"]) / df[\"Open\"] * 100.0\n",
        "dfreg"
      ],
      "execution_count": 9,
      "outputs": [
        {
          "output_type": "execute_result",
          "data": {
            "text/html": [
              "<div>\n",
              "<style scoped>\n",
              "    .dataframe tbody tr th:only-of-type {\n",
              "        vertical-align: middle;\n",
              "    }\n",
              "\n",
              "    .dataframe tbody tr th {\n",
              "        vertical-align: top;\n",
              "    }\n",
              "\n",
              "    .dataframe thead th {\n",
              "        text-align: right;\n",
              "    }\n",
              "</style>\n",
              "<table border=\"1\" class=\"dataframe\">\n",
              "  <thead>\n",
              "    <tr style=\"text-align: right;\">\n",
              "      <th></th>\n",
              "      <th>Adj Close</th>\n",
              "      <th>Volume</th>\n",
              "      <th>HL_PCT</th>\n",
              "      <th>PCT_change</th>\n",
              "    </tr>\n",
              "    <tr>\n",
              "      <th>Date</th>\n",
              "      <th></th>\n",
              "      <th></th>\n",
              "      <th></th>\n",
              "      <th></th>\n",
              "    </tr>\n",
              "  </thead>\n",
              "  <tbody>\n",
              "    <tr>\n",
              "      <th>2018-09-06</th>\n",
              "      <td>219.690903</td>\n",
              "      <td>34290000</td>\n",
              "      <td>2.711790</td>\n",
              "      <td>-1.383543</td>\n",
              "    </tr>\n",
              "    <tr>\n",
              "      <th>2018-09-07</th>\n",
              "      <td>217.918411</td>\n",
              "      <td>37619800</td>\n",
              "      <td>2.105733</td>\n",
              "      <td>-0.247917</td>\n",
              "    </tr>\n",
              "    <tr>\n",
              "      <th>2018-09-10</th>\n",
              "      <td>214.993759</td>\n",
              "      <td>39516500</td>\n",
              "      <td>2.464162</td>\n",
              "      <td>-1.185786</td>\n",
              "    </tr>\n",
              "    <tr>\n",
              "      <th>2018-09-11</th>\n",
              "      <td>220.429443</td>\n",
              "      <td>35749000</td>\n",
              "      <td>3.457675</td>\n",
              "      <td>2.678781</td>\n",
              "    </tr>\n",
              "    <tr>\n",
              "      <th>2018-09-12</th>\n",
              "      <td>217.691925</td>\n",
              "      <td>49278700</td>\n",
              "      <td>2.334104</td>\n",
              "      <td>-1.720457</td>\n",
              "    </tr>\n",
              "    <tr>\n",
              "      <th>2018-09-13</th>\n",
              "      <td>222.950317</td>\n",
              "      <td>41706400</td>\n",
              "      <td>2.552890</td>\n",
              "      <td>1.292949</td>\n",
              "    </tr>\n",
              "    <tr>\n",
              "      <th>2018-09-14</th>\n",
              "      <td>220.419571</td>\n",
              "      <td>31999300</td>\n",
              "      <td>1.929946</td>\n",
              "      <td>-0.846070</td>\n",
              "    </tr>\n",
              "    <tr>\n",
              "      <th>2018-09-17</th>\n",
              "      <td>214.550659</td>\n",
              "      <td>37195100</td>\n",
              "      <td>2.606936</td>\n",
              "      <td>-1.922120</td>\n",
              "    </tr>\n",
              "    <tr>\n",
              "      <th>2018-09-18</th>\n",
              "      <td>214.905167</td>\n",
              "      <td>31571700</td>\n",
              "      <td>2.167344</td>\n",
              "      <td>0.206627</td>\n",
              "    </tr>\n",
              "    <tr>\n",
              "      <th>2018-09-19</th>\n",
              "      <td>215.033142</td>\n",
              "      <td>27123800</td>\n",
              "      <td>1.978290</td>\n",
              "      <td>-0.059499</td>\n",
              "    </tr>\n",
              "    <tr>\n",
              "      <th>2018-09-20</th>\n",
              "      <td>216.667816</td>\n",
              "      <td>26608800</td>\n",
              "      <td>1.422536</td>\n",
              "      <td>-0.095353</td>\n",
              "    </tr>\n",
              "    <tr>\n",
              "      <th>2018-09-21</th>\n",
              "      <td>214.334030</td>\n",
              "      <td>96246700</td>\n",
              "      <td>1.869892</td>\n",
              "      <td>-1.413169</td>\n",
              "    </tr>\n",
              "    <tr>\n",
              "      <th>2018-09-24</th>\n",
              "      <td>217.416183</td>\n",
              "      <td>27693400</td>\n",
              "      <td>2.097011</td>\n",
              "      <td>1.831005</td>\n",
              "    </tr>\n",
              "    <tr>\n",
              "      <th>2018-09-25</th>\n",
              "      <td>218.794800</td>\n",
              "      <td>24554400</td>\n",
              "      <td>1.404208</td>\n",
              "      <td>1.110354</td>\n",
              "    </tr>\n",
              "    <tr>\n",
              "      <th>2018-09-26</th>\n",
              "      <td>217.051849</td>\n",
              "      <td>23984700</td>\n",
              "      <td>1.810183</td>\n",
              "      <td>-0.262444</td>\n",
              "    </tr>\n",
              "    <tr>\n",
              "      <th>2018-09-27</th>\n",
              "      <td>221.512604</td>\n",
              "      <td>30181200</td>\n",
              "      <td>1.289179</td>\n",
              "      <td>0.504866</td>\n",
              "    </tr>\n",
              "    <tr>\n",
              "      <th>2018-09-28</th>\n",
              "      <td>222.290543</td>\n",
              "      <td>22929400</td>\n",
              "      <td>0.806234</td>\n",
              "      <td>0.422622</td>\n",
              "    </tr>\n",
              "    <tr>\n",
              "      <th>2018-10-01</th>\n",
              "      <td>223.787323</td>\n",
              "      <td>23600800</td>\n",
              "      <td>1.350872</td>\n",
              "      <td>-0.302699</td>\n",
              "    </tr>\n",
              "    <tr>\n",
              "      <th>2018-10-02</th>\n",
              "      <td>225.776459</td>\n",
              "      <td>24788200</td>\n",
              "      <td>1.469816</td>\n",
              "      <td>0.893289</td>\n",
              "    </tr>\n",
              "    <tr>\n",
              "      <th>2018-10-03</th>\n",
              "      <td>228.523819</td>\n",
              "      <td>28654800</td>\n",
              "      <td>1.590038</td>\n",
              "      <td>0.878072</td>\n",
              "    </tr>\n",
              "    <tr>\n",
              "      <th>2018-10-04</th>\n",
              "      <td>224.506180</td>\n",
              "      <td>32042000</td>\n",
              "      <td>2.465025</td>\n",
              "      <td>-1.208941</td>\n",
              "    </tr>\n",
              "    <tr>\n",
              "      <th>2018-10-05</th>\n",
              "      <td>220.862717</td>\n",
              "      <td>33580500</td>\n",
              "      <td>3.491017</td>\n",
              "      <td>-1.609938</td>\n",
              "    </tr>\n",
              "    <tr>\n",
              "      <th>2018-10-08</th>\n",
              "      <td>220.350662</td>\n",
              "      <td>29663900</td>\n",
              "      <td>2.055685</td>\n",
              "      <td>0.702037</td>\n",
              "    </tr>\n",
              "    <tr>\n",
              "      <th>2018-10-09</th>\n",
              "      <td>223.403275</td>\n",
              "      <td>26891000</td>\n",
              "      <td>2.212723</td>\n",
              "      <td>1.444284</td>\n",
              "    </tr>\n",
              "    <tr>\n",
              "      <th>2018-10-10</th>\n",
              "      <td>213.053894</td>\n",
              "      <td>41990600</td>\n",
              "      <td>4.760586</td>\n",
              "      <td>-4.036195</td>\n",
              "    </tr>\n",
              "    <tr>\n",
              "      <th>2018-10-11</th>\n",
              "      <td>211.173065</td>\n",
              "      <td>53124400</td>\n",
              "      <td>3.348097</td>\n",
              "      <td>-0.032634</td>\n",
              "    </tr>\n",
              "    <tr>\n",
              "      <th>2018-10-12</th>\n",
              "      <td>218.716034</td>\n",
              "      <td>40337900</td>\n",
              "      <td>2.719377</td>\n",
              "      <td>0.766719</td>\n",
              "    </tr>\n",
              "    <tr>\n",
              "      <th>2018-10-15</th>\n",
              "      <td>214.038605</td>\n",
              "      <td>30791000</td>\n",
              "      <td>2.097901</td>\n",
              "      <td>-1.718214</td>\n",
              "    </tr>\n",
              "    <tr>\n",
              "      <th>2018-10-16</th>\n",
              "      <td>218.755417</td>\n",
              "      <td>29184000</td>\n",
              "      <td>2.804416</td>\n",
              "      <td>1.470790</td>\n",
              "    </tr>\n",
              "    <tr>\n",
              "      <th>2018-10-17</th>\n",
              "      <td>217.810089</td>\n",
              "      <td>22885400</td>\n",
              "      <td>1.491931</td>\n",
              "      <td>-0.499326</td>\n",
              "    </tr>\n",
              "    <tr>\n",
              "      <th>...</th>\n",
              "      <td>...</td>\n",
              "      <td>...</td>\n",
              "      <td>...</td>\n",
              "      <td>...</td>\n",
              "    </tr>\n",
              "    <tr>\n",
              "      <th>2019-07-26</th>\n",
              "      <td>206.953690</td>\n",
              "      <td>17618900</td>\n",
              "      <td>1.246749</td>\n",
              "      <td>0.125318</td>\n",
              "    </tr>\n",
              "    <tr>\n",
              "      <th>2019-07-29</th>\n",
              "      <td>208.886337</td>\n",
              "      <td>21673400</td>\n",
              "      <td>1.049216</td>\n",
              "      <td>0.585237</td>\n",
              "    </tr>\n",
              "    <tr>\n",
              "      <th>2019-07-30</th>\n",
              "      <td>207.989746</td>\n",
              "      <td>33935700</td>\n",
              "      <td>1.365076</td>\n",
              "      <td>0.009582</td>\n",
              "    </tr>\n",
              "    <tr>\n",
              "      <th>2019-07-31</th>\n",
              "      <td>212.233627</td>\n",
              "      <td>69281400</td>\n",
              "      <td>4.726808</td>\n",
              "      <td>-1.561780</td>\n",
              "    </tr>\n",
              "    <tr>\n",
              "      <th>2019-08-01</th>\n",
              "      <td>207.641068</td>\n",
              "      <td>54017900</td>\n",
              "      <td>5.416684</td>\n",
              "      <td>-2.557270</td>\n",
              "    </tr>\n",
              "    <tr>\n",
              "      <th>2019-08-02</th>\n",
              "      <td>203.247772</td>\n",
              "      <td>40862100</td>\n",
              "      <td>2.352705</td>\n",
              "      <td>-0.734684</td>\n",
              "    </tr>\n",
              "    <tr>\n",
              "      <th>2019-08-05</th>\n",
              "      <td>192.608185</td>\n",
              "      <td>52393000</td>\n",
              "      <td>3.139543</td>\n",
              "      <td>-2.348608</td>\n",
              "    </tr>\n",
              "    <tr>\n",
              "      <th>2019-08-06</th>\n",
              "      <td>196.254333</td>\n",
              "      <td>35824800</td>\n",
              "      <td>2.045692</td>\n",
              "      <td>0.351486</td>\n",
              "    </tr>\n",
              "    <tr>\n",
              "      <th>2019-08-07</th>\n",
              "      <td>198.286606</td>\n",
              "      <td>33364400</td>\n",
              "      <td>2.883838</td>\n",
              "      <td>1.857627</td>\n",
              "    </tr>\n",
              "    <tr>\n",
              "      <th>2019-08-08</th>\n",
              "      <td>202.659988</td>\n",
              "      <td>27009500</td>\n",
              "      <td>2.035098</td>\n",
              "      <td>1.613385</td>\n",
              "    </tr>\n",
              "    <tr>\n",
              "      <th>2019-08-09</th>\n",
              "      <td>200.990005</td>\n",
              "      <td>24619700</td>\n",
              "      <td>1.726455</td>\n",
              "      <td>-0.153998</td>\n",
              "    </tr>\n",
              "    <tr>\n",
              "      <th>2019-08-12</th>\n",
              "      <td>200.479996</td>\n",
              "      <td>22474900</td>\n",
              "      <td>1.446533</td>\n",
              "      <td>0.430819</td>\n",
              "    </tr>\n",
              "    <tr>\n",
              "      <th>2019-08-13</th>\n",
              "      <td>208.970001</td>\n",
              "      <td>47218500</td>\n",
              "      <td>5.579750</td>\n",
              "      <td>3.954829</td>\n",
              "    </tr>\n",
              "    <tr>\n",
              "      <th>2019-08-14</th>\n",
              "      <td>202.750000</td>\n",
              "      <td>36547400</td>\n",
              "      <td>1.898893</td>\n",
              "      <td>-0.201813</td>\n",
              "    </tr>\n",
              "    <tr>\n",
              "      <th>2019-08-15</th>\n",
              "      <td>201.740005</td>\n",
              "      <td>27227400</td>\n",
              "      <td>2.711411</td>\n",
              "      <td>-0.845376</td>\n",
              "    </tr>\n",
              "    <tr>\n",
              "      <th>2019-08-16</th>\n",
              "      <td>206.500000</td>\n",
              "      <td>27620400</td>\n",
              "      <td>1.607752</td>\n",
              "      <td>1.086744</td>\n",
              "    </tr>\n",
              "    <tr>\n",
              "      <th>2019-08-19</th>\n",
              "      <td>210.350006</td>\n",
              "      <td>24413600</td>\n",
              "      <td>1.283574</td>\n",
              "      <td>-0.128188</td>\n",
              "    </tr>\n",
              "    <tr>\n",
              "      <th>2019-08-20</th>\n",
              "      <td>210.360001</td>\n",
              "      <td>26884300</td>\n",
              "      <td>1.440387</td>\n",
              "      <td>-0.246588</td>\n",
              "    </tr>\n",
              "    <tr>\n",
              "      <th>2019-08-21</th>\n",
              "      <td>212.639999</td>\n",
              "      <td>21535400</td>\n",
              "      <td>0.964065</td>\n",
              "      <td>-0.164330</td>\n",
              "    </tr>\n",
              "    <tr>\n",
              "      <th>2019-08-22</th>\n",
              "      <td>212.460007</td>\n",
              "      <td>22253700</td>\n",
              "      <td>1.736798</td>\n",
              "      <td>-0.342415</td>\n",
              "    </tr>\n",
              "    <tr>\n",
              "      <th>2019-08-23</th>\n",
              "      <td>202.639999</td>\n",
              "      <td>46818000</td>\n",
              "      <td>5.453022</td>\n",
              "      <td>-3.242131</td>\n",
              "    </tr>\n",
              "    <tr>\n",
              "      <th>2019-08-26</th>\n",
              "      <td>206.490005</td>\n",
              "      <td>26043600</td>\n",
              "      <td>1.031529</td>\n",
              "      <td>0.306035</td>\n",
              "    </tr>\n",
              "    <tr>\n",
              "      <th>2019-08-27</th>\n",
              "      <td>204.160004</td>\n",
              "      <td>25873300</td>\n",
              "      <td>2.458858</td>\n",
              "      <td>-1.780043</td>\n",
              "    </tr>\n",
              "    <tr>\n",
              "      <th>2019-08-28</th>\n",
              "      <td>205.529999</td>\n",
              "      <td>15938800</td>\n",
              "      <td>1.167710</td>\n",
              "      <td>0.700633</td>\n",
              "    </tr>\n",
              "    <tr>\n",
              "      <th>2019-08-29</th>\n",
              "      <td>209.009995</td>\n",
              "      <td>20990500</td>\n",
              "      <td>1.272668</td>\n",
              "      <td>0.244602</td>\n",
              "    </tr>\n",
              "    <tr>\n",
              "      <th>2019-08-30</th>\n",
              "      <td>208.740005</td>\n",
              "      <td>21143400</td>\n",
              "      <td>1.556961</td>\n",
              "      <td>-0.675675</td>\n",
              "    </tr>\n",
              "    <tr>\n",
              "      <th>2019-09-03</th>\n",
              "      <td>205.699997</td>\n",
              "      <td>20023000</td>\n",
              "      <td>1.341757</td>\n",
              "      <td>-0.353629</td>\n",
              "    </tr>\n",
              "    <tr>\n",
              "      <th>2019-09-04</th>\n",
              "      <td>209.190002</td>\n",
              "      <td>19188100</td>\n",
              "      <td>1.032549</td>\n",
              "      <td>0.383897</td>\n",
              "    </tr>\n",
              "    <tr>\n",
              "      <th>2019-09-05</th>\n",
              "      <td>213.279999</td>\n",
              "      <td>23913700</td>\n",
              "      <td>1.153416</td>\n",
              "      <td>0.603773</td>\n",
              "    </tr>\n",
              "    <tr>\n",
              "      <th>2019-09-06</th>\n",
              "      <td>213.259995</td>\n",
              "      <td>17671839</td>\n",
              "      <td>0.890935</td>\n",
              "      <td>-0.369076</td>\n",
              "    </tr>\n",
              "  </tbody>\n",
              "</table>\n",
              "<p>252 rows × 4 columns</p>\n",
              "</div>"
            ],
            "text/plain": [
              "             Adj Close    Volume    HL_PCT  PCT_change\n",
              "Date                                                  \n",
              "2018-09-06  219.690903  34290000  2.711790   -1.383543\n",
              "2018-09-07  217.918411  37619800  2.105733   -0.247917\n",
              "2018-09-10  214.993759  39516500  2.464162   -1.185786\n",
              "2018-09-11  220.429443  35749000  3.457675    2.678781\n",
              "2018-09-12  217.691925  49278700  2.334104   -1.720457\n",
              "2018-09-13  222.950317  41706400  2.552890    1.292949\n",
              "2018-09-14  220.419571  31999300  1.929946   -0.846070\n",
              "2018-09-17  214.550659  37195100  2.606936   -1.922120\n",
              "2018-09-18  214.905167  31571700  2.167344    0.206627\n",
              "2018-09-19  215.033142  27123800  1.978290   -0.059499\n",
              "2018-09-20  216.667816  26608800  1.422536   -0.095353\n",
              "2018-09-21  214.334030  96246700  1.869892   -1.413169\n",
              "2018-09-24  217.416183  27693400  2.097011    1.831005\n",
              "2018-09-25  218.794800  24554400  1.404208    1.110354\n",
              "2018-09-26  217.051849  23984700  1.810183   -0.262444\n",
              "2018-09-27  221.512604  30181200  1.289179    0.504866\n",
              "2018-09-28  222.290543  22929400  0.806234    0.422622\n",
              "2018-10-01  223.787323  23600800  1.350872   -0.302699\n",
              "2018-10-02  225.776459  24788200  1.469816    0.893289\n",
              "2018-10-03  228.523819  28654800  1.590038    0.878072\n",
              "2018-10-04  224.506180  32042000  2.465025   -1.208941\n",
              "2018-10-05  220.862717  33580500  3.491017   -1.609938\n",
              "2018-10-08  220.350662  29663900  2.055685    0.702037\n",
              "2018-10-09  223.403275  26891000  2.212723    1.444284\n",
              "2018-10-10  213.053894  41990600  4.760586   -4.036195\n",
              "2018-10-11  211.173065  53124400  3.348097   -0.032634\n",
              "2018-10-12  218.716034  40337900  2.719377    0.766719\n",
              "2018-10-15  214.038605  30791000  2.097901   -1.718214\n",
              "2018-10-16  218.755417  29184000  2.804416    1.470790\n",
              "2018-10-17  217.810089  22885400  1.491931   -0.499326\n",
              "...                ...       ...       ...         ...\n",
              "2019-07-26  206.953690  17618900  1.246749    0.125318\n",
              "2019-07-29  208.886337  21673400  1.049216    0.585237\n",
              "2019-07-30  207.989746  33935700  1.365076    0.009582\n",
              "2019-07-31  212.233627  69281400  4.726808   -1.561780\n",
              "2019-08-01  207.641068  54017900  5.416684   -2.557270\n",
              "2019-08-02  203.247772  40862100  2.352705   -0.734684\n",
              "2019-08-05  192.608185  52393000  3.139543   -2.348608\n",
              "2019-08-06  196.254333  35824800  2.045692    0.351486\n",
              "2019-08-07  198.286606  33364400  2.883838    1.857627\n",
              "2019-08-08  202.659988  27009500  2.035098    1.613385\n",
              "2019-08-09  200.990005  24619700  1.726455   -0.153998\n",
              "2019-08-12  200.479996  22474900  1.446533    0.430819\n",
              "2019-08-13  208.970001  47218500  5.579750    3.954829\n",
              "2019-08-14  202.750000  36547400  1.898893   -0.201813\n",
              "2019-08-15  201.740005  27227400  2.711411   -0.845376\n",
              "2019-08-16  206.500000  27620400  1.607752    1.086744\n",
              "2019-08-19  210.350006  24413600  1.283574   -0.128188\n",
              "2019-08-20  210.360001  26884300  1.440387   -0.246588\n",
              "2019-08-21  212.639999  21535400  0.964065   -0.164330\n",
              "2019-08-22  212.460007  22253700  1.736798   -0.342415\n",
              "2019-08-23  202.639999  46818000  5.453022   -3.242131\n",
              "2019-08-26  206.490005  26043600  1.031529    0.306035\n",
              "2019-08-27  204.160004  25873300  2.458858   -1.780043\n",
              "2019-08-28  205.529999  15938800  1.167710    0.700633\n",
              "2019-08-29  209.009995  20990500  1.272668    0.244602\n",
              "2019-08-30  208.740005  21143400  1.556961   -0.675675\n",
              "2019-09-03  205.699997  20023000  1.341757   -0.353629\n",
              "2019-09-04  209.190002  19188100  1.032549    0.383897\n",
              "2019-09-05  213.279999  23913700  1.153416    0.603773\n",
              "2019-09-06  213.259995  17671839  0.890935   -0.369076\n",
              "\n",
              "[252 rows x 4 columns]"
            ]
          },
          "metadata": {
            "tags": []
          },
          "execution_count": 9
        }
      ]
    },
    {
      "cell_type": "code",
      "metadata": {
        "colab_type": "code",
        "id": "lRmD5gcKaj4X",
        "colab": {
          "base_uri": "https://localhost:8080/",
          "height": 68
        },
        "outputId": "52758761-1f0a-4600-dd02-da33f275b13e"
      },
      "source": [
        "import math\n",
        "import numpy as np\n",
        "from sklearn import preprocessing \n",
        "from sklearn.model_selection  import train_test_split\n",
        "\n",
        "# Drop missing value\n",
        "dfreg.fillna(value=-99999, inplace=True)\n",
        "\n",
        "print(dfreg.shape)\n",
        "# We want to separate 1 percent of the data to forecast\n",
        "forecast_out = int(math.ceil(0.01 * len(dfreg)))\n",
        "\n",
        "# Separating the label here, we want to predict the AdjClose\n",
        "forecast_col = 'Adj Close'\n",
        "dfreg['label'] = dfreg[forecast_col].shift(-forecast_out)\n",
        "X = np.array(dfreg.drop(['label'], 1))\n",
        "\n",
        "# Scale the X so that everyone can have the same distribution for linear regression\n",
        "X = preprocessing.scale(X)\n",
        "\n",
        "# Finally We want to find Data Series of late X and early X (train) for model generation and evaluation\n",
        "X_lately = X[-forecast_out:]\n",
        "X = X[:-forecast_out]\n",
        "\n",
        "# Separate label and identify it as y\n",
        "y = np.array(dfreg['label'])\n",
        "y = y[:-forecast_out]\n",
        "\n",
        "print('Dimension of X',X.shape)\n",
        "print('Dimension of y',y.shape)"
      ],
      "execution_count": 10,
      "outputs": [
        {
          "output_type": "stream",
          "text": [
            "(252, 4)\n",
            "Dimension of X (249, 4)\n",
            "Dimension of y (249,)\n"
          ],
          "name": "stdout"
        }
      ]
    },
    {
      "cell_type": "code",
      "metadata": {
        "id": "ubGX1aOBKG5K",
        "colab_type": "code",
        "colab": {}
      },
      "source": [
        "X_train, X_test, y_train, y_test = train_test_split(X, y, test_size=0.2)"
      ],
      "execution_count": 0,
      "outputs": []
    },
    {
      "cell_type": "markdown",
      "metadata": {
        "id": "I7yZT-JjKLNj",
        "colab_type": "text"
      },
      "source": [
        "# Model Generation\n",
        "\n",
        "* To predict the return of the stocks in the next period - Prediction analysis\n",
        "    * Simple Linear Analysis\n",
        "    * Quadratic Linear Analysis (QDA)\n",
        "    * K Nearest Neighbor (KNN)"
      ]
    },
    {
      "cell_type": "code",
      "metadata": {
        "colab_type": "code",
        "id": "dKJ8acqpa-uj",
        "colab": {}
      },
      "source": [
        "from sklearn.linear_model import LinearRegression\n",
        "from sklearn.neighbors import KNeighborsRegressor\n",
        "\n",
        "from sklearn.linear_model import Ridge\n",
        "from sklearn.preprocessing import PolynomialFeatures\n",
        "from sklearn.pipeline import make_pipeline\n"
      ],
      "execution_count": 0,
      "outputs": []
    },
    {
      "cell_type": "code",
      "metadata": {
        "colab_type": "code",
        "id": "KbnChvaebXwV",
        "outputId": "5dabd255-0538-4cbb-8ded-ebae70f0545c",
        "colab": {
          "base_uri": "https://localhost:8080/",
          "height": 68
        }
      },
      "source": [
        "\n",
        "# Linear regression\n",
        "clfreg = LinearRegression(n_jobs=-1)\n",
        "clfreg.fit(X_train, y_train)\n",
        "\n",
        "\n",
        "# Quadratic Regression 2\n",
        "clfpoly2 = make_pipeline(PolynomialFeatures(2), Ridge())\n",
        "clfpoly2.fit(X_train, y_train)\n",
        "\n",
        "# Quadratic Regression 3\n",
        "clfpoly3 = make_pipeline(PolynomialFeatures(3), Ridge())\n",
        "clfpoly3.fit(X_train, y_train)\n",
        "    \n",
        "# KNN Regression\n",
        "clfknn = KNeighborsRegressor(n_neighbors=2)\n",
        "clfknn.fit(X_train, y_train)"
      ],
      "execution_count": 13,
      "outputs": [
        {
          "output_type": "execute_result",
          "data": {
            "text/plain": [
              "KNeighborsRegressor(algorithm='auto', leaf_size=30, metric='minkowski',\n",
              "                    metric_params=None, n_jobs=None, n_neighbors=2, p=2,\n",
              "                    weights='uniform')"
            ]
          },
          "metadata": {
            "tags": []
          },
          "execution_count": 13
        }
      ]
    },
    {
      "cell_type": "markdown",
      "metadata": {
        "id": "QeplLSXQKrw3",
        "colab_type": "text"
      },
      "source": [
        "## Test the model"
      ]
    },
    {
      "cell_type": "code",
      "metadata": {
        "colab_type": "code",
        "id": "cwwo6ubZbu_h",
        "colab": {}
      },
      "source": [
        "confidencereg = clfreg.score(X_test, y_test)\n",
        "confidencepoly2 = clfpoly2.score(X_test,y_test)\n",
        "confidencepoly3 = clfpoly3.score(X_test,y_test)\n",
        "confidenceknn = clfknn.score(X_test, y_test)"
      ],
      "execution_count": 0,
      "outputs": []
    },
    {
      "cell_type": "code",
      "metadata": {
        "colab_type": "code",
        "id": "6PTg-Zs5bxhR",
        "outputId": "279c0ee0-c0c3-4158-c0f1-639623c18b22",
        "colab": {
          "base_uri": "https://localhost:8080/",
          "height": 85
        }
      },
      "source": [
        "print(\"The linear regression confidence is \",confidencereg)\n",
        "print(\"The quadratic regression 2 confidence is \",confidencepoly2)\n",
        "print(\"The quadratic regression 3 confidence is \",confidencepoly3)\n",
        "print(\"The knn regression confidence is \",confidenceknn)"
      ],
      "execution_count": 15,
      "outputs": [
        {
          "output_type": "stream",
          "text": [
            "The linear regression confidence is  0.9245853976153099\n",
            "The quadratic regression 2 confidence is  0.9234126551231738\n",
            "The quadratic regression 3 confidence is  0.6903760789372473\n",
            "The knn regression confidence is  0.8339588197165175\n"
          ],
          "name": "stdout"
        }
      ]
    },
    {
      "cell_type": "markdown",
      "metadata": {
        "id": "55NxAGwvKx8a",
        "colab_type": "text"
      },
      "source": [
        "This means that the linear regression holds the most accuracy of it as being linear and justify the trend of stocks as being linear most of the times. \n",
        "\n",
        "However this does not mean we can just put stocks in it. There are still many issues to consider, especially with different companies that have different price trajectories over time. Google really is very linear: Up and to the right. Many companies aren't, so keep this in mind. \n",
        "\n",
        "We need to plot out the graph to make the most sense of it "
      ]
    },
    {
      "cell_type": "code",
      "metadata": {
        "colab_type": "code",
        "id": "f9uD8W0dc7Tb",
        "outputId": "3b45bfcd-5272-4871-d47d-2377e150fa55",
        "colab": {
          "base_uri": "https://localhost:8080/",
          "height": 34
        }
      },
      "source": [
        "# Printing the forecast\n",
        "forecast_set = clfreg.predict(X_lately)\n",
        "dfreg['Forecast'] = np.nan\n",
        "print(forecast_set, confidencereg, forecast_out)"
      ],
      "execution_count": 16,
      "outputs": [
        {
          "output_type": "stream",
          "text": [
            "[209.41473339 212.83273827 213.76254771] 0.9245853976153099 3\n"
          ],
          "name": "stdout"
        }
      ]
    },
    {
      "cell_type": "markdown",
      "metadata": {
        "id": "F9kZ2_FWLP4n",
        "colab_type": "text"
      },
      "source": [
        "# Plotting the Prediction"
      ]
    },
    {
      "cell_type": "code",
      "metadata": {
        "colab_type": "code",
        "id": "xzM9hDAIc_kf",
        "colab": {}
      },
      "source": [
        "last_date = dfreg.iloc[-1].name\n",
        "last_unix = last_date\n",
        "next_unix = last_unix + datetime.timedelta(days=1)\n",
        "\n",
        "for i in forecast_set:\n",
        "    next_date = next_unix\n",
        "    next_unix += datetime.timedelta(days=1)\n",
        "    dfreg.loc[next_date] = [np.nan for _ in range(len(dfreg.columns)-1)]+[i]"
      ],
      "execution_count": 0,
      "outputs": []
    },
    {
      "cell_type": "code",
      "metadata": {
        "colab_type": "code",
        "id": "UGTHYyzxdGFv",
        "outputId": "038e31bd-646b-459f-bebd-086e85afa0d7",
        "colab": {
          "base_uri": "https://localhost:8080/",
          "height": 431
        }
      },
      "source": [
        "dfreg['Adj Close'].tail(500).plot()\n",
        "dfreg['Forecast'].tail(500).plot()\n",
        "plt.legend(loc=4)\n",
        "plt.xlabel('Date')\n",
        "plt.ylabel('Price')\n",
        "plt.show()"
      ],
      "execution_count": 18,
      "outputs": [
        {
          "output_type": "display_data",
          "data": {
            "image/png": "[encoded data removed]",
            "text/plain": [
              "<Figure size 576x504 with 1 Axes>"
            ]
          },
          "metadata": {
            "tags": []
          }
        }
      ]
    },
    {
      "cell_type": "code",
      "metadata": {
        "id": "gWGfPj7nOVDh",
        "colab_type": "code",
        "colab": {}
      },
      "source": [
        ""
      ],
      "execution_count": 0,
      "outputs": []
    }
  ]
}